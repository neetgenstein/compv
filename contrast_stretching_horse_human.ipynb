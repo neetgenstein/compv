{
  "nbformat": 4,
  "nbformat_minor": 0,
  "metadata": {
    "colab": {
      "provenance": [],
      "gpuType": "T4"
    },
    "kernelspec": {
      "name": "python3",
      "display_name": "Python 3"
    },
    "language_info": {
      "name": "python"
    },
    "accelerator": "GPU"
  },
  "cells": [
    {
      "cell_type": "code",
      "source": [],
      "metadata": {
        "id": "ug0t6qO1h5xq"
      },
      "execution_count": null,
      "outputs": []
    },
    {
      "cell_type": "code",
      "source": [],
      "metadata": {
        "id": "bhRGY4pJh5p3"
      },
      "execution_count": null,
      "outputs": []
    },
    {
      "cell_type": "code",
      "source": [],
      "metadata": {
        "id": "_Z8Wq60ph5m6"
      },
      "execution_count": null,
      "outputs": []
    },
    {
      "cell_type": "code",
      "source": [],
      "metadata": {
        "id": "_l6mMZy2h5kN"
      },
      "execution_count": null,
      "outputs": []
    },
    {
      "cell_type": "code",
      "source": [],
      "metadata": {
        "id": "WCwd7fqBh5fb"
      },
      "execution_count": null,
      "outputs": []
    },
    {
      "cell_type": "code",
      "source": [],
      "metadata": {
        "id": "y5rw-8D_h5c8"
      },
      "execution_count": null,
      "outputs": []
    },
    {
      "cell_type": "code",
      "source": [],
      "metadata": {
        "id": "0DraEwpDh5aq"
      },
      "execution_count": null,
      "outputs": []
    },
    {
      "cell_type": "code",
      "source": [],
      "metadata": {
        "id": "0V1av6DRh5YM"
      },
      "execution_count": null,
      "outputs": []
    },
    {
      "cell_type": "code",
      "source": [],
      "metadata": {
        "id": "T6zQz6ZNh5V6"
      },
      "execution_count": null,
      "outputs": []
    },
    {
      "cell_type": "code",
      "source": [],
      "metadata": {
        "id": "Q5aCrfijh5Tr"
      },
      "execution_count": null,
      "outputs": []
    },
    {
      "cell_type": "code",
      "source": [],
      "metadata": {
        "id": "C8vFWREPh5Q9"
      },
      "execution_count": null,
      "outputs": []
    },
    {
      "cell_type": "code",
      "source": [],
      "metadata": {
        "id": "8oXLiFdfh5OL"
      },
      "execution_count": null,
      "outputs": []
    },
    {
      "cell_type": "code",
      "source": [],
      "metadata": {
        "id": "w2UTqphCh5Lc"
      },
      "execution_count": null,
      "outputs": []
    },
    {
      "cell_type": "code",
      "source": [],
      "metadata": {
        "id": "E1M4MzCEh5Ch"
      },
      "execution_count": null,
      "outputs": []
    },
    {
      "cell_type": "code",
      "execution_count": null,
      "metadata": {
        "id": "WWZ1ab3-WEtK"
      },
      "outputs": [],
      "source": [
        "import cv2\n",
        "import numpy as np\n",
        "import matplotlib.pyplot as plt\n",
        "img=cv2.imread('image.jpeg',0)\n",
        "min_val=np.min(img)\n",
        "max_val=np.max(img)\n",
        "stretched=(img-min_val)*255/(max_val-min_val)\n",
        "plt.subplot(1,2,1)\n",
        "plt.imshow(img,cmap='gray')\n",
        "plt.subplot(1,2,2)\n",
        "plt.imshow(stretched,cmap='gray')\n",
        "plt.show()"
      ]
    },
    {
      "cell_type": "code",
      "source": [
        "kernel=np.ones((5,5),np.float32)/25\n",
        "filtered=cv2.filter2D(stretched,-1,kernel)\n",
        "plt.subplot(1,2,1)\n",
        "plt.imshow(stretched,cmap='gray')\n",
        "plt.subplot(1,2,2)\n",
        "plt.imshow(filtered,cmap='gray')\n",
        "plt.show()\n"
      ],
      "metadata": {
        "id": "a5maabP4WMfN"
      },
      "execution_count": null,
      "outputs": []
    },
    {
      "cell_type": "code",
      "source": [
        "plt.hist(filtered.ravel(),256,[0,256])\n",
        "plt.show()"
      ],
      "metadata": {
        "id": "f5KuNh_DWOYw"
      },
      "execution_count": null,
      "outputs": []
    },
    {
      "cell_type": "markdown",
      "source": [
        "\n",
        "\n",
        "```\n",
        "# ex-2\n",
        "```\n",
        "\n"
      ],
      "metadata": {
        "id": "9I4CO8czWjFK"
      }
    },
    {
      "cell_type": "code",
      "source": [
        "import tensorflow_datasets as tfds\n",
        "\n",
        "(train_ds, test_ds), ds_info = tfds.load(\n",
        "    'horses_or_humans',\n",
        "    split=['train', 'test'],\n",
        "    as_supervised=True,  # Returns (image, label) tuples\n",
        "    with_info=True\n",
        ")"
      ],
      "metadata": {
        "id": "_veTvcjuWPvH"
      },
      "execution_count": null,
      "outputs": []
    },
    {
      "cell_type": "code",
      "source": [
        "import tensorflow as tf\n",
        "import matplotlib.pyplot as plt\n",
        "import numpy as np\n",
        "AUTOTUNE=tf.data.AUTOTUNE\n",
        "image_size=(224,224)\n",
        "batch_size=32\n",
        "train_count=ds_info.splits['train'].num_examples\n",
        "test_count=ds_info.splits['test'].num_examples\n",
        "print(train_count)\n",
        "print(test_count)"
      ],
      "metadata": {
        "id": "IC0NBWEmWs-E"
      },
      "execution_count": null,
      "outputs": []
    },
    {
      "cell_type": "code",
      "source": [
        "def preprocess(image,label):\n",
        "    image=tf.image.resize(image,image_size)\n",
        "    image=tf.cast(image,tf.float32)/255.0\n",
        "    return image,label\n",
        "train_ds=train_ds.map(preprocess, num_parallel_calls=AUTOTUNE)\n",
        "test_ds=test_ds.map(preprocess, num_parallel_calls=AUTOTUNE)\n",
        "train_ds=train_ds.cache().shuffle(1000).batch(batch_size).prefetch(AUTOTUNE)\n",
        "test_ds=test_ds.batch(batch_size).prefetch(AUTOTUNE)\n"
      ],
      "metadata": {
        "id": "Pg16-jP8Wubq"
      },
      "execution_count": 4,
      "outputs": []
    },
    {
      "cell_type": "code",
      "source": [
        "images,labels=next(iter(train_ds))\n",
        "for i in range(4):\n",
        "    plt.subplot(2,2,i+1)\n",
        "    plt.imshow(images[i].numpy())\n",
        "    plt.title(int(labels[i].numpy()))\n",
        "plt.show()\n"
      ],
      "metadata": {
        "id": "lFYiVIfJWv2R"
      },
      "execution_count": null,
      "outputs": []
    },
    {
      "cell_type": "code",
      "source": [
        "base=tf.keras.applications.ResNet50(weights=None,include_top=False,input_shape=(224,224,3))\n",
        "model=tf.keras.Sequential([\n",
        "    base,\n",
        "    tf.keras.layers.GlobalAveragePooling2D(),\n",
        "    tf.keras.layers.Dense(1,activation='sigmoid')\n",
        "])\n",
        "model.compile(optimizer='adam',loss='binary_crossentropy',metrics=['accuracy'])\n",
        "model.summary()"
      ],
      "metadata": {
        "id": "VOSUEh_NWw8W"
      },
      "execution_count": null,
      "outputs": []
    },
    {
      "cell_type": "code",
      "source": [
        "history=model.fit(train_ds.take(20),validation_data=test_ds.take(10),epochs=3)\n",
        "plt.plot(history.history['accuracy'],label='train')\n",
        "plt.plot(history.history['val_accuracy'],label='val')\n",
        "plt.legend()\n",
        "plt.show()\n",
        "loss,acc=model.evaluate(test_ds.take(10))\n",
        "print(loss,acc)\n"
      ],
      "metadata": {
        "id": "qYGag09RYvpL"
      },
      "execution_count": null,
      "outputs": []
    }
  ]
}