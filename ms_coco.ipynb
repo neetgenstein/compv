{
  "nbformat": 4,
  "nbformat_minor": 0,
  "metadata": {
    "colab": {
      "provenance": [],
      "gpuType": "T4"
    },
    "kernelspec": {
      "name": "python3",
      "display_name": "Python 3"
    },
    "language_info": {
      "name": "python"
    },
    "accelerator": "GPU"
  },
  "cells": [
    {
      "cell_type": "code",
      "source": [],
      "metadata": {
        "id": "SF9f6_PYkr2E"
      },
      "execution_count": null,
      "outputs": []
    },
    {
      "cell_type": "code",
      "source": [],
      "metadata": {
        "id": "g1e53M1wkrnY"
      },
      "execution_count": null,
      "outputs": []
    },
    {
      "cell_type": "code",
      "source": [],
      "metadata": {
        "id": "x0thsbq0krk3"
      },
      "execution_count": null,
      "outputs": []
    },
    {
      "cell_type": "code",
      "source": [],
      "metadata": {
        "id": "FvfvvBJhkriD"
      },
      "execution_count": null,
      "outputs": []
    },
    {
      "cell_type": "code",
      "source": [],
      "metadata": {
        "id": "9UwpqXAekreC"
      },
      "execution_count": null,
      "outputs": []
    },
    {
      "cell_type": "code",
      "source": [],
      "metadata": {
        "id": "x545UEaUkrbY"
      },
      "execution_count": null,
      "outputs": []
    },
    {
      "cell_type": "code",
      "source": [],
      "metadata": {
        "id": "0RbFt0yZkrYl"
      },
      "execution_count": null,
      "outputs": []
    },
    {
      "cell_type": "code",
      "source": [],
      "metadata": {
        "id": "P4M0sH7akrWE"
      },
      "execution_count": null,
      "outputs": []
    },
    {
      "cell_type": "code",
      "source": [],
      "metadata": {
        "id": "S7ZiHFwykrTk"
      },
      "execution_count": null,
      "outputs": []
    },
    {
      "cell_type": "code",
      "source": [],
      "metadata": {
        "id": "ADEiLRtfkrOw"
      },
      "execution_count": null,
      "outputs": []
    },
    {
      "cell_type": "code",
      "source": [],
      "metadata": {
        "id": "wUgAKvkJkrMW"
      },
      "execution_count": null,
      "outputs": []
    },
    {
      "cell_type": "code",
      "source": [],
      "metadata": {
        "id": "Vuhd4uUgkrJ9"
      },
      "execution_count": null,
      "outputs": []
    },
    {
      "cell_type": "code",
      "source": [],
      "metadata": {
        "id": "2qFJi-IVkrHf"
      },
      "execution_count": null,
      "outputs": []
    },
    {
      "cell_type": "code",
      "source": [],
      "metadata": {
        "id": "fGBYWf3vkrEv"
      },
      "execution_count": null,
      "outputs": []
    },
    {
      "cell_type": "code",
      "source": [
        "import tensorflow as tf\n",
        "import tensorflow_datasets as tfds\n",
        "import matplotlib.pyplot as plt\n",
        "import numpy as np\n",
        "\n",
        "(ds_train_raw, ds_test_raw), ds_info = tfds.load(\n",
        "    'coco/2017',\n",
        "    split=['train[:1%]', 'validation[:1%]'],\n",
        "    with_info=True,\n",
        "    shuffle_files=True\n",
        ")"
      ],
      "metadata": {
        "id": "tp5JUnM1dnJQ"
      },
      "execution_count": null,
      "outputs": []
    },
    {
      "cell_type": "code",
      "source": [
        "print(f\"Number of training images: {ds_train_raw.cardinality().numpy()}\")\n",
        "print(f\"Number of testing images: {ds_test_raw.cardinality().numpy()}\")"
      ],
      "metadata": {
        "id": "snAcZV88doH_"
      },
      "execution_count": null,
      "outputs": []
    },
    {
      "cell_type": "code",
      "source": [
        "IMG_SIZE = 128\n",
        "NUM_CLASSES = ds_info.features['objects']['label'].num_classes\n",
        "\n",
        "def preprocess(features):\n",
        "    image = tf.image.resize(features['image'], (IMG_SIZE, IMG_SIZE))\n",
        "    label = features['objects']['label'][0]\n",
        "    return image, label\n",
        "\n",
        "ds_train = ds_train_raw.map(preprocess).cache().shuffle(100).batch(32).prefetch(tf.data.AUTOTUNE)\n",
        "ds_test = ds_test_raw.map(preprocess).cache().batch(32).prefetch(tf.data.AUTOTUNE)"
      ],
      "metadata": {
        "id": "w9HBrrc7dpE0"
      },
      "execution_count": null,
      "outputs": []
    },
    {
      "cell_type": "code",
      "source": [
        "get_label_name = ds_info.features['objects']['label'].int2str\n",
        "\n",
        "plt.figure(figsize=(12, 8))\n",
        "for images, labels in ds_train.take(1):\n",
        "    for i in range(9):\n",
        "        ax = plt.subplot(3, 3, i + 1)\n",
        "        plt.imshow(images[i].numpy().astype(\"uint8\"))\n",
        "        plt.title(get_label_name(labels[i]))\n",
        "        plt.axis(\"off\")\n",
        "plt.show()"
      ],
      "metadata": {
        "id": "Yw5XkrOGdp7f"
      },
      "execution_count": null,
      "outputs": []
    },
    {
      "cell_type": "code",
      "source": [
        "data_augmentation = tf.keras.Sequential([\n",
        "    tf.keras.layers.RandomFlip(\"horizontal\"),\n",
        "    tf.keras.layers.RandomRotation(0.2),\n",
        "    tf.keras.layers.RandomContrast(0.2),\n",
        "])\n",
        "\n",
        "ds_train_augmented = ds_train.map(lambda x, y: (data_augmentation(x, training=True), y), num_parallel_calls=tf.data.AUTOTUNE)"
      ],
      "metadata": {
        "id": "WqJ8_NKZdrlP"
      },
      "execution_count": null,
      "outputs": []
    },
    {
      "cell_type": "code",
      "source": [
        "plt.figure(figsize=(12, 8))\n",
        "for images, labels in ds_train.take(1):\n",
        "    augmented_images = data_augmentation(images)\n",
        "    for i in range(9):\n",
        "        ax = plt.subplot(3, 3, i + 1)\n",
        "        plt.imshow(augmented_images[i].numpy().astype(\"uint8\"))\n",
        "        plt.title(get_label_name(labels[i]))\n",
        "        plt.axis(\"off\")\n",
        "plt.show()"
      ],
      "metadata": {
        "id": "wcGrjysydshW"
      },
      "execution_count": null,
      "outputs": []
    },
    {
      "cell_type": "code",
      "source": [
        "rescale = tf.keras.layers.Rescaling(1./255)\n",
        "cnn_model = tf.keras.Sequential([\n",
        "    rescale,\n",
        "    tf.keras.layers.Conv2D(32, 3, activation='relu'),\n",
        "    tf.keras.layers.MaxPooling2D(),\n",
        "    tf.keras.layers.Conv2D(64, 3, activation='relu'),\n",
        "    tf.keras.layers.MaxPooling2D(),\n",
        "    tf.keras.layers.Flatten(),\n",
        "    tf.keras.layers.Dense(128, activation='relu'),\n",
        "    tf.keras.layers.Dense(NUM_CLASSES)\n",
        "])\n",
        "\n",
        "cnn_model.compile(\n",
        "    optimizer='adam',\n",
        "    loss=tf.keras.losses.SparseCategoricalCrossentropy(from_logits=True),\n",
        "    metrics=['accuracy']\n",
        ")\n",
        "\n",
        "history_cnn = cnn_model.fit(\n",
        "    ds_train_augmented,\n",
        "    validation_data=ds_test,\n",
        "    epochs=15\n",
        ")\n",
        "loss_cnn, accuracy_cnn = cnn_model.evaluate(ds_test)\n",
        "print(f\"CNN Testing Accuracy: {accuracy_cnn:.2%}\")"
      ],
      "metadata": {
        "id": "MD5FVqmfdt0s"
      },
      "execution_count": null,
      "outputs": []
    },
    {
      "cell_type": "code",
      "source": [
        "base_model = tf.keras.applications.ResNet50(\n",
        "    input_shape=(IMG_SIZE, IMG_SIZE, 3),\n",
        "    include_top=False,\n",
        "    weights='imagenet'\n",
        ")\n",
        "base_model.trainable = False\n",
        "\n",
        "transfer_model = tf.keras.Sequential([\n",
        "    rescale,\n",
        "    base_model,\n",
        "    tf.keras.layers.GlobalAveragePooling2D(),\n",
        "    tf.keras.layers.Dense(128, activation='relu'),\n",
        "    tf.keras.layers.Dropout(0.2),\n",
        "    tf.keras.layers.Dense(NUM_CLASSES)\n",
        "])\n",
        "\n",
        "transfer_model.compile(\n",
        "    optimizer='adam',\n",
        "    loss=tf.keras.losses.SparseCategoricalCrossentropy(from_logits=True),\n",
        "    metrics=['accuracy']\n",
        ")\n",
        "\n",
        "history_transfer = transfer_model.fit(\n",
        "    ds_train_augmented,\n",
        "    validation_data=ds_test,\n",
        "    epochs=15\n",
        ")\n",
        "loss_transfer, accuracy_transfer = transfer_model.evaluate(ds_test)\n",
        "print(f\"Transfer Learning (ResNet50) Testing Accuracy: {accuracy_transfer:.2%}\")"
      ],
      "metadata": {
        "id": "WmcFQUiPdu8q"
      },
      "execution_count": null,
      "outputs": []
    },
    {
      "cell_type": "code",
      "source": [
        "cnn_model_no_aug = tf.keras.models.clone_model(cnn_model)\n",
        "cnn_model_no_aug.compile(\n",
        "    optimizer='adam',\n",
        "    loss=tf.keras.losses.SparseCategoricalCrossentropy(from_logits=True),\n",
        "    metrics=['accuracy']\n",
        ")\n",
        "\n",
        "history_no_aug = cnn_model_no_aug.fit(\n",
        "    ds_train,\n",
        "    validation_data=ds_test,\n",
        "    epochs=15\n",
        ")\n",
        "\n",
        "loss_no_aug, accuracy_no_aug = cnn_model_no_aug.evaluate(ds_test)"
      ],
      "metadata": {
        "id": "0h8tbvDgdv9_"
      },
      "execution_count": null,
      "outputs": []
    },
    {
      "cell_type": "code",
      "source": [
        "print(\"--- Accuracy Comparison ---\")\n",
        "print(f\"Simple CNN (No Augmentation): {accuracy_no_aug:.2%}\")\n",
        "print(f\"Simple CNN (With Augmentation): {accuracy_cnn:.2%}\")\n",
        "print(f\"Transfer Learning (With Augmentation): {accuracy_transfer:.2%}\")"
      ],
      "metadata": {
        "id": "bu6fcADydxGG"
      },
      "execution_count": null,
      "outputs": []
    }
  ]
}