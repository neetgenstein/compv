{
  "nbformat": 4,
  "nbformat_minor": 0,
  "metadata": {
    "colab": {
      "provenance": []
    },
    "kernelspec": {
      "name": "python3",
      "display_name": "Python 3"
    },
    "language_info": {
      "name": "python"
    }
  },
  "cells": [
    {
      "cell_type": "code",
      "source": [],
      "metadata": {
        "id": "qD9etMSVikmF"
      },
      "execution_count": null,
      "outputs": []
    },
    {
      "cell_type": "code",
      "source": [],
      "metadata": {
        "id": "sAlFx0ldikiv"
      },
      "execution_count": null,
      "outputs": []
    },
    {
      "cell_type": "code",
      "source": [],
      "metadata": {
        "id": "n_JN_QHzikgK"
      },
      "execution_count": null,
      "outputs": []
    },
    {
      "cell_type": "code",
      "source": [],
      "metadata": {
        "id": "2CfTUZyuikds"
      },
      "execution_count": null,
      "outputs": []
    },
    {
      "cell_type": "code",
      "source": [],
      "metadata": {
        "id": "p33jm6Guikba"
      },
      "execution_count": null,
      "outputs": []
    },
    {
      "cell_type": "code",
      "source": [],
      "metadata": {
        "id": "TTPx3n5CikY8"
      },
      "execution_count": null,
      "outputs": []
    },
    {
      "cell_type": "code",
      "source": [],
      "metadata": {
        "id": "QXZ52WJyikWr"
      },
      "execution_count": null,
      "outputs": []
    },
    {
      "cell_type": "code",
      "source": [],
      "metadata": {
        "id": "PMpAVV8eikUa"
      },
      "execution_count": null,
      "outputs": []
    },
    {
      "cell_type": "code",
      "source": [],
      "metadata": {
        "id": "UH789mIhikR8"
      },
      "execution_count": null,
      "outputs": []
    },
    {
      "cell_type": "code",
      "source": [],
      "metadata": {
        "id": "3j7E5pPCikPb"
      },
      "execution_count": null,
      "outputs": []
    },
    {
      "cell_type": "code",
      "source": [],
      "metadata": {
        "id": "v2vx006fikM6"
      },
      "execution_count": null,
      "outputs": []
    },
    {
      "cell_type": "code",
      "source": [],
      "metadata": {
        "id": "RlqVgPxUikKc"
      },
      "execution_count": null,
      "outputs": []
    },
    {
      "cell_type": "code",
      "source": [],
      "metadata": {
        "id": "61vE0azUikEu"
      },
      "execution_count": null,
      "outputs": []
    },
    {
      "cell_type": "code",
      "source": [],
      "metadata": {
        "id": "U29DhKycikCL"
      },
      "execution_count": null,
      "outputs": []
    },
    {
      "cell_type": "code",
      "execution_count": 2,
      "metadata": {
        "id": "RI916WzwfAXl"
      },
      "outputs": [],
      "source": [
        "import tensorflow as tf\n",
        "import tensorflow_datasets as tfds\n",
        "import matplotlib.pyplot as plt\n",
        "from tensorflow.keras import layers, models\n"
      ]
    },
    {
      "cell_type": "code",
      "source": [
        "ds, ds_info = tfds.load('bccd', split=['train[:80%]', 'train[80%:]'], with_info=True)\n",
        "train_ds, test_ds = ds\n"
      ],
      "metadata": {
        "id": "ZXXPmeuGfXOB"
      },
      "execution_count": 10,
      "outputs": []
    },
    {
      "cell_type": "code",
      "source": [
        "def extract_label(example):\n",
        "    img = tf.image.convert_image_dtype(example['image'], tf.float32)\n",
        "    label = example['objects']['label'][0]\n",
        "    return img, label\n"
      ],
      "metadata": {
        "id": "O6bWjwkUfrkn"
      },
      "execution_count": 11,
      "outputs": []
    },
    {
      "cell_type": "code",
      "source": [
        "train_ds = train_ds.map(extract_label).batch(32).shuffle(100)\n",
        "test_ds = test_ds.map(extract_label).batch(32)\n"
      ],
      "metadata": {
        "id": "8yxqLL7YftVz"
      },
      "execution_count": 12,
      "outputs": []
    },
    {
      "cell_type": "code",
      "source": [
        "for img, label in train_ds.take(1):\n",
        "    plt.imshow(img[0])\n",
        "    plt.title(int(label[0]))\n",
        "    plt.axis(\"off\")\n",
        "plt.show()\n"
      ],
      "metadata": {
        "id": "UxzTUZ40gAFe"
      },
      "execution_count": null,
      "outputs": []
    },
    {
      "cell_type": "code",
      "source": [
        "data_augmentation = tf.keras.Sequential([\n",
        "    layers.RandomFlip(\"horizontal\"),\n",
        "    layers.RandomRotation(0.1),\n",
        "    layers.RandomContrast(0.2)\n",
        "])\n",
        "augmented_train_ds = train_ds.map(lambda x,y: (data_augmentation(x, training=True), y))\n"
      ],
      "metadata": {
        "id": "8iwP880xgBua"
      },
      "execution_count": 14,
      "outputs": []
    },
    {
      "cell_type": "code",
      "source": [
        "model = models.Sequential([\n",
        "    layers.Input(shape=(None,None,3)),\n",
        "    layers.Resizing(128,128),\n",
        "    layers.Conv2D(32,3,activation=\"relu\"),\n",
        "    layers.MaxPooling2D(),\n",
        "    layers.Conv2D(64,3,activation=\"relu\"),\n",
        "    layers.MaxPooling2D(),\n",
        "    layers.Conv2D(128,3,activation=\"relu\"),\n",
        "    layers.MaxPooling2D(),\n",
        "    layers.Flatten(),\n",
        "    layers.Dense(128,activation=\"relu\"),\n",
        "    layers.Dense(3,activation=\"softmax\")\n",
        "])\n",
        "model.compile(optimizer=\"adam\", loss=\"sparse_categorical_crossentropy\", metrics=[\"accuracy\"])\n"
      ],
      "metadata": {
        "id": "0WGO3tBGgF5d"
      },
      "execution_count": 15,
      "outputs": []
    },
    {
      "cell_type": "code",
      "source": [
        "history_noaug = model.fit(train_ds, epochs=8, validation_data=test_ds)\n",
        "model_aug = tf.keras.models.clone_model(model)\n",
        "model_aug.compile(optimizer=\"adam\", loss=\"sparse_categorical_crossentropy\", metrics=[\"accuracy\"])\n",
        "history_aug = model_aug.fit(augmented_train_ds, epochs=8, validation_data=test_ds)\n",
        "\n",
        "plt.plot(history_noaug.history[\"accuracy\"], label=\"train_noaug\")\n",
        "plt.plot(history_noaug.history[\"val_accuracy\"], label=\"val_noaug\")\n",
        "plt.plot(history_aug.history[\"accuracy\"], label=\"train_aug\")\n",
        "plt.plot(history_aug.history[\"val_accuracy\"], label=\"val_aug\")\n",
        "plt.xlabel(\"epoch\")\n",
        "plt.ylabel(\"accuracy\")\n",
        "plt.legend()\n",
        "plt.show()\n"
      ],
      "metadata": {
        "id": "ELjqptTugHV-"
      },
      "execution_count": null,
      "outputs": []
    },
    {
      "cell_type": "code",
      "source": [
        "print(\"train acc before aug:\", history_noaug.history[\"accuracy\"][-1])\n",
        "print(\"val acc before aug:\", history_noaug.history[\"val_accuracy\"][-1])\n",
        "print(\"train acc after aug:\", history_aug.history[\"accuracy\"][-1])\n",
        "print(\"val acc after aug:\", history_aug.history[\"val_accuracy\"][-1])\n"
      ],
      "metadata": {
        "id": "l9S0l3lDgKPl"
      },
      "execution_count": null,
      "outputs": []
    }
  ]
}