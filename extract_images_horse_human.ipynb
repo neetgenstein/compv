{
  "nbformat": 4,
  "nbformat_minor": 0,
  "metadata": {
    "colab": {
      "provenance": [],
      "gpuType": "T4"
    },
    "kernelspec": {
      "name": "python3",
      "display_name": "Python 3"
    },
    "language_info": {
      "name": "python"
    },
    "accelerator": "GPU"
  },
  "cells": [
    {
      "cell_type": "code",
      "execution_count": 7,
      "metadata": {
        "id": "byygzkjMbmNo"
      },
      "outputs": [],
      "source": [
        "import cv2\n",
        "import os\n",
        "\n",
        "video_path = '/content/video.mp4'\n",
        "output_folder = 'frames'\n",
        "os.makedirs(output_folder, exist_ok=True)\n",
        "\n",
        "cap = cv2.VideoCapture(video_path)\n",
        "count = 0\n",
        "while True:\n",
        "    ret, frame = cap.read()\n",
        "    if not ret:\n",
        "        break\n",
        "    cv2.imwrite(os.path.join(output_folder, f'frame_{count}.jpg'), frame)\n",
        "    count += 1\n",
        "cap.release()"
      ]
    },
    {
      "cell_type": "markdown",
      "source": [
        "\n",
        "\n",
        "```\n",
        "# ex-2\n",
        "```\n",
        "\n"
      ],
      "metadata": {
        "id": "QvwqZMmJbohk"
      }
    },
    {
      "cell_type": "code",
      "source": [
        "import tensorflow as tf\n",
        "import tensorflow_datasets as tfds\n",
        "import matplotlib.pyplot as plt\n",
        "\n",
        "(train_ds, test_ds), ds_info = tfds.load(\n",
        "    'horses_or_humans',\n",
        "    split=['train', 'test'],\n",
        "    as_supervised=True,\n",
        "    with_info=True\n",
        ")\n"
      ],
      "metadata": {
        "id": "sycDhujTbqtX"
      },
      "execution_count": null,
      "outputs": []
    },
    {
      "cell_type": "code",
      "source": [
        "print(\"Training samples:\", ds_info.splits['train'].num_examples)\n",
        "print(\"Testing samples:\", ds_info.splits['test'].num_examples)"
      ],
      "metadata": {
        "id": "kvaUamnMbsKu"
      },
      "execution_count": null,
      "outputs": []
    },
    {
      "cell_type": "code",
      "source": [
        "plt.figure(figsize=(8,8))\n",
        "for i, (image, label) in enumerate(train_ds.take(9)):\n",
        "    ax = plt.subplot(3,3,i+1)\n",
        "    plt.imshow(image)\n",
        "    plt.title(\"Horse\" if label==0 else \"Human\")\n",
        "    plt.axis(\"off\")\n",
        "plt.show()\n"
      ],
      "metadata": {
        "id": "2xvkynGEbtOT"
      },
      "execution_count": null,
      "outputs": []
    },
    {
      "cell_type": "code",
      "source": [
        "def normalize_img(image, label):\n",
        "    return tf.cast(image, tf.float32) / 255.0, label\n",
        "\n",
        "train_ds = train_ds.map(normalize_img).batch(32).shuffle(1000)\n",
        "test_ds = test_ds.map(normalize_img).batch(32)\n"
      ],
      "metadata": {
        "id": "3e5lj62nbujK"
      },
      "execution_count": 5,
      "outputs": []
    },
    {
      "cell_type": "code",
      "source": [
        "base_model = tf.keras.applications.ResNet50(weights=None, input_shape=(300,300,3), classes=2)\n",
        "base_model.compile(optimizer='adam', loss='sparse_categorical_crossentropy', metrics=['accuracy'])\n",
        "history = base_model.fit(train_ds, validation_data=test_ds, epochs=5)\n",
        "\n",
        "plt.plot(history.history['accuracy'], label='Train Accuracy')\n",
        "plt.plot(history.history['val_accuracy'], label='Test Accuracy')\n",
        "plt.legend()\n",
        "plt.title('Training and Testing Accuracy')\n",
        "plt.show()"
      ],
      "metadata": {
        "id": "toQBnl8Nbvxa"
      },
      "execution_count": null,
      "outputs": []
    }
  ]
}