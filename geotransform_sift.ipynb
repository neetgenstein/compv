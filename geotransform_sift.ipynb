{
  "nbformat": 4,
  "nbformat_minor": 0,
  "metadata": {
    "colab": {
      "provenance": [],
      "gpuType": "T4"
    },
    "kernelspec": {
      "name": "python3",
      "display_name": "Python 3"
    },
    "language_info": {
      "name": "python"
    },
    "accelerator": "GPU"
  },
  "cells": [
    {
      "cell_type": "code",
      "source": [],
      "metadata": {
        "id": "YsHVfAmuiIrO"
      },
      "execution_count": null,
      "outputs": []
    },
    {
      "cell_type": "code",
      "source": [],
      "metadata": {
        "id": "W6qByBY6iIk4"
      },
      "execution_count": null,
      "outputs": []
    },
    {
      "cell_type": "code",
      "source": [],
      "metadata": {
        "id": "jqMasyUBiIiF"
      },
      "execution_count": null,
      "outputs": []
    },
    {
      "cell_type": "code",
      "source": [],
      "metadata": {
        "id": "tx0-L12JiIfm"
      },
      "execution_count": null,
      "outputs": []
    },
    {
      "cell_type": "code",
      "source": [],
      "metadata": {
        "id": "ajxhf6ZYiIdF"
      },
      "execution_count": null,
      "outputs": []
    },
    {
      "cell_type": "code",
      "source": [],
      "metadata": {
        "id": "sZamqgx6iIam"
      },
      "execution_count": null,
      "outputs": []
    },
    {
      "cell_type": "code",
      "source": [],
      "metadata": {
        "id": "duZTlpBfiIYF"
      },
      "execution_count": null,
      "outputs": []
    },
    {
      "cell_type": "code",
      "source": [],
      "metadata": {
        "id": "ZexwE9eniIVz"
      },
      "execution_count": null,
      "outputs": []
    },
    {
      "cell_type": "code",
      "source": [],
      "metadata": {
        "id": "kihHm4eKiITJ"
      },
      "execution_count": null,
      "outputs": []
    },
    {
      "cell_type": "code",
      "source": [],
      "metadata": {
        "id": "XndlVIq7iIQX"
      },
      "execution_count": null,
      "outputs": []
    },
    {
      "cell_type": "code",
      "source": [],
      "metadata": {
        "id": "UAFRiDbbiIN2"
      },
      "execution_count": null,
      "outputs": []
    },
    {
      "cell_type": "code",
      "source": [],
      "metadata": {
        "id": "6Eg8E7IBiIL2"
      },
      "execution_count": null,
      "outputs": []
    },
    {
      "cell_type": "code",
      "source": [],
      "metadata": {
        "id": "aBlLhzjKiIJh"
      },
      "execution_count": null,
      "outputs": []
    },
    {
      "cell_type": "code",
      "source": [],
      "metadata": {
        "id": "bvtuUREJiIG4"
      },
      "execution_count": null,
      "outputs": []
    },
    {
      "cell_type": "code",
      "source": [],
      "metadata": {
        "id": "_pJfmbXDiIET"
      },
      "execution_count": null,
      "outputs": []
    },
    {
      "cell_type": "code",
      "execution_count": null,
      "metadata": {
        "id": "SKqYY1EAan-R"
      },
      "outputs": [],
      "source": [
        "import cv2\n",
        "import numpy as np\n",
        "import matplotlib.pyplot as plt\n",
        "\n",
        "img = cv2.imread('image.jpeg')\n",
        "img = cv2.cvtColor(img, cv2.COLOR_BGR2RGB)\n",
        "\n",
        "h, w = img.shape[:2]\n",
        "center = (w // 2, h // 2)\n",
        "\n",
        "scaled = cv2.resize(img, None, fx=1.5, fy=1.5)\n",
        "rotated = cv2.warpAffine(img, cv2.getRotationMatrix2D(center, 45, 1), (w, h))\n",
        "shear_matrix = np.float32([[1, 0.5, 0], [0.5, 1, 0]])\n",
        "sheared = cv2.warpAffine(img, shear_matrix, (int(w * 1.5), int(h * 1.5)))\n",
        "\n",
        "plt.figure(figsize=(10,8))\n",
        "plt.subplot(2,2,1); plt.imshow(img); plt.title(\"Original\"); plt.axis('off')\n",
        "plt.subplot(2,2,2); plt.imshow(scaled); plt.title(\"Scaled\"); plt.axis('off')\n",
        "plt.subplot(2,2,3); plt.imshow(rotated); plt.title(\"Rotated\"); plt.axis('off')\n",
        "plt.subplot(2,2,4); plt.imshow(sheared); plt.title(\"Sheared\"); plt.axis('off')\n",
        "plt.show()"
      ]
    },
    {
      "cell_type": "markdown",
      "source": [
        "\n",
        "\n",
        "```\n",
        "# ex-2\n",
        "```\n",
        "\n"
      ],
      "metadata": {
        "id": "jMqwzaG2hMPt"
      }
    },
    {
      "cell_type": "code",
      "source": [
        "import cv2\n",
        "import matplotlib.pyplot as plt\n",
        "\n",
        "img = cv2.imread('image.jpeg')\n",
        "gray = cv2.cvtColor(img, cv2.COLOR_BGR2GRAY)\n",
        "\n",
        "sift = cv2.SIFT_create()\n",
        "keypoints, descriptors = sift.detectAndCompute(gray, None)\n",
        "\n",
        "img_kp = cv2.drawKeypoints(gray, keypoints, None, flags=cv2.DRAW_MATCHES_FLAGS_DRAW_RICH_KEYPOINTS)\n",
        "\n",
        "plt.figure(figsize=(8,6))\n",
        "plt.imshow(img_kp, cmap='gray')\n",
        "plt.title(\"SIFT Features\")\n",
        "plt.axis('off')\n",
        "plt.show()"
      ],
      "metadata": {
        "id": "ByEwvd8Na2Tq"
      },
      "execution_count": null,
      "outputs": []
    },
    {
      "cell_type": "code",
      "source": [
        "import numpy as np\n",
        "\n",
        "octaves = [cv2.GaussianBlur(gray, (0,0), sigmaX=s) for s in [1,2,4,8]]\n",
        "plt.figure(figsize=(12,4))\n",
        "for i, o in enumerate(octaves):\n",
        "    plt.subplot(1,4,i+1)\n",
        "    plt.imshow(o, cmap='gray')\n",
        "    plt.title(f'Scale {i+1}')\n",
        "    plt.axis('off')\n",
        "plt.show()"
      ],
      "metadata": {
        "id": "OFygmBLObMxs"
      },
      "execution_count": null,
      "outputs": []
    }
  ]
}