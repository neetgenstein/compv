{
  "cells": [
    {
      "cell_type": "code",
      "execution_count": null,
      "metadata": {},
      "outputs": [],
      "source": []
    },
    {
      "cell_type": "code",
      "execution_count": null,
      "metadata": {},
      "outputs": [],
      "source": []
    },
    {
      "cell_type": "code",
      "execution_count": null,
      "metadata": {},
      "outputs": [],
      "source": []
    },
    {
      "cell_type": "code",
      "execution_count": null,
      "metadata": {},
      "outputs": [],
      "source": []
    },
    {
      "cell_type": "code",
      "execution_count": null,
      "metadata": {},
      "outputs": [],
      "source": []
    },
    {
      "cell_type": "code",
      "execution_count": null,
      "metadata": {},
      "outputs": [],
      "source": []
    },
    {
      "cell_type": "code",
      "execution_count": null,
      "metadata": {},
      "outputs": [],
      "source": []
    },
    {
      "cell_type": "code",
      "execution_count": null,
      "metadata": {},
      "outputs": [],
      "source": []
    },
    {
      "cell_type": "code",
      "execution_count": null,
      "metadata": {
        "id": "dpcyNaLgUPc9"
      },
      "outputs": [],
      "source": [
        "import cv2\n",
        "from google.colab.patches import cv2_imshow\n",
        "M1 = cv2.imread('/content/image1.jpeg', cv2.IMREAD_GRAYSCALE)\n",
        "M2 = cv2.imread('/content/image2.jpeg', cv2.IMREAD_GRAYSCALE)\n",
        "Out = cv2.absdiff(M1, M2)\n",
        "cv2_imshow(Out)"
      ]
    },
    {
      "cell_type": "markdown",
      "metadata": {
        "id": "5Vd0KuQPg_OQ"
      },
      "source": [
        "\n",
        "\n",
        "```\n",
        "# ex-2\n",
        "```\n",
        "\n"
      ]
    },
    {
      "cell_type": "code",
      "execution_count": null,
      "metadata": {
        "id": "LoaruhRBUafh"
      },
      "outputs": [],
      "source": [
        "import cv2\n",
        "import numpy as np\n",
        "from matplotlib import pyplot as plt\n",
        "img = cv2.imread('/content/image1.jpeg', cv2.IMREAD_GRAYSCALE)\n",
        "img = cv2.resize(img, (64,128))\n",
        "gx = cv2.Sobel(np.float32(img), cv2.CV_32F, 1, 0, ksize=1)\n",
        "gy = cv2.Sobel(np.float32(img), cv2.CV_32F, 0, 1, ksize=1)\n",
        "mag, ang = cv2.cartToPolar(gx, gy, angleInDegrees=True)\n",
        "hog = cv2.HOGDescriptor()\n",
        "features = hog.compute(img)\n",
        "print(features.shape)\n",
        "plt.plot(features)\n",
        "plt.show()"
      ]
    }
  ],
  "metadata": {
    "colab": {
      "provenance": []
    },
    "kernelspec": {
      "display_name": "Python 3",
      "name": "python3"
    },
    "language_info": {
      "name": "python"
    }
  },
  "nbformat": 4,
  "nbformat_minor": 0
}
